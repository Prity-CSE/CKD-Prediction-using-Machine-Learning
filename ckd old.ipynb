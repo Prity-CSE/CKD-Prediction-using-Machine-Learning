{
 "cells": [
  {
   "cell_type": "markdown",
   "metadata": {
    "id": "x1VFpCJIfMCd"
   },
   "source": [
    "# Importing required Libraries"
   ]
  },
  {
   "cell_type": "code",
   "execution_count": 15,
   "metadata": {
    "id": "aHmdixg6n_Eg"
   },
   "outputs": [
    {
     "ename": "ModuleNotFoundError",
     "evalue": "No module named 'pandas.concat'",
     "output_type": "error",
     "traceback": [
      "\u001b[1;31m---------------------------------------------------------------------------\u001b[0m",
      "\u001b[1;31mModuleNotFoundError\u001b[0m                       Traceback (most recent call last)",
      "Cell \u001b[1;32mIn[15], line 2\u001b[0m\n\u001b[0;32m      1\u001b[0m \u001b[38;5;28;01mimport\u001b[39;00m \u001b[38;5;21;01mos\u001b[39;00m\n\u001b[1;32m----> 2\u001b[0m \u001b[38;5;28;01mimport\u001b[39;00m \u001b[38;5;21;01mpandas\u001b[39;00m\u001b[38;5;21;01m.\u001b[39;00m\u001b[38;5;21;01mconcat\u001b[39;00m \u001b[38;5;28;01mas\u001b[39;00m \u001b[38;5;21;01mpd\u001b[39;00m\n\u001b[0;32m      3\u001b[0m \u001b[38;5;28;01mimport\u001b[39;00m \u001b[38;5;21;01msklearn\u001b[39;00m \u001b[38;5;28;01mas\u001b[39;00m \u001b[38;5;21;01msk\u001b[39;00m\n\u001b[0;32m      4\u001b[0m \u001b[38;5;28;01mimport\u001b[39;00m \u001b[38;5;21;01mmatplotlib\u001b[39;00m\u001b[38;5;21;01m.\u001b[39;00m\u001b[38;5;21;01mpyplot\u001b[39;00m \u001b[38;5;28;01mas\u001b[39;00m \u001b[38;5;21;01mplt\u001b[39;00m\n",
      "\u001b[1;31mModuleNotFoundError\u001b[0m: No module named 'pandas.concat'"
     ]
    }
   ],
   "source": [
    "import os\n",
    "import pandas as pd\n",
    "import sklearn as sk\n",
    "import matplotlib.pyplot as plt\n",
    "import seaborn as sns\n",
    "from sklearn.model_selection import GridSearchCV, train_test_split, cross_val_score\n",
    "from sklearn.preprocessing import StandardScaler\n",
    "from sklearn.metrics import r2_score\n",
    "import scipy.stats as stats\n",
    "import missingno as msno\n",
    "import numpy as np"
   ]
  },
  {
   "cell_type": "markdown",
   "metadata": {
    "id": "jCJbW14JezTf"
   },
   "source": [
    "# Data Preprocessing"
   ]
  },
  {
   "cell_type": "markdown",
   "metadata": {
    "id": "7Ayn4RxxeyNy"
   },
   "source": []
  },
  {
   "cell_type": "code",
   "execution_count": null,
   "metadata": {
    "id": "h8Vt0WvAoA6S"
   },
   "outputs": [],
   "source": [
    "df = pd.read_csv('Set03.csv')\n",
    "df2 = pd.read_csv('kidney_disease.csv')"
   ]
  },
  {
   "cell_type": "code",
   "execution_count": null,
   "metadata": {
    "colab": {
     "base_uri": "https://localhost:8080/",
     "height": 308
    },
    "id": "sxv77tdPfUr7",
    "outputId": "e6627741-39fe-4f0e-d7cb-9ec2bf6ef302"
   },
   "outputs": [],
   "source": [
    "df.head()"
   ]
  },
  {
   "cell_type": "code",
   "execution_count": null,
   "metadata": {
    "colab": {
     "base_uri": "https://localhost:8080/",
     "height": 236
    },
    "id": "Te7UE01nfXU_",
    "outputId": "0861f5eb-68d2-4589-8052-4feda2f4554c"
   },
   "outputs": [],
   "source": [
    "df2.head()"
   ]
  },
  {
   "cell_type": "code",
   "execution_count": null,
   "metadata": {
    "colab": {
     "base_uri": "https://localhost:8080/"
    },
    "id": "Mg9SY_01fbZj",
    "outputId": "a7659ea5-8de2-46ef-9623-9d1ab900cb76"
   },
   "outputs": [],
   "source": [
    "df.info()"
   ]
  },
  {
   "cell_type": "code",
   "execution_count": null,
   "metadata": {
    "colab": {
     "base_uri": "https://localhost:8080/"
    },
    "id": "6PhJN-QKfbkg",
    "outputId": "8ad23a05-4c0e-40d1-d118-b41db7453c38"
   },
   "outputs": [],
   "source": [
    "df2.info()\n"
   ]
  },
  {
   "cell_type": "code",
   "execution_count": null,
   "metadata": {
    "colab": {
     "base_uri": "https://localhost:8080/"
    },
    "id": "04fEyBBQoNPr",
    "outputId": "296ff65b-1f80-4b3a-92f5-3fc0402c9d5e"
   },
   "outputs": [],
   "source": [
    "names = []\n",
    "for col in df.columns:\n",
    "  names.append(col)\n",
    "names"
   ]
  },
  {
   "cell_type": "code",
   "execution_count": null,
   "metadata": {
    "colab": {
     "base_uri": "https://localhost:8080/"
    },
    "id": "SmFz585mxoiM",
    "outputId": "adc05ea0-310d-4254-e57e-a2bffa17dea1"
   },
   "outputs": [],
   "source": [
    "df2.info()\n",
    "for col in df2.columns:\n",
    "  print(col)"
   ]
  },
  {
   "cell_type": "code",
   "execution_count": null,
   "metadata": {
    "colab": {
     "base_uri": "https://localhost:8080/"
    },
    "id": "hKS-a_GJaRaB",
    "outputId": "ac786b7a-21a8-4abc-8b18-36873a1f1821"
   },
   "outputs": [],
   "source": [
    "# df2.drop(['id'],axis=1,inplace=True)\n",
    "df2.info()"
   ]
  },
  {
   "cell_type": "code",
   "execution_count": null,
   "metadata": {
    "id": "An7-Q_O2pIcK"
   },
   "outputs": [],
   "source": [
    "names.append(\"Missing Column\")"
   ]
  },
  {
   "cell_type": "code",
   "execution_count": null,
   "metadata": {
    "colab": {
     "base_uri": "https://localhost:8080/",
     "height": 476
    },
    "id": "z2xHY94Tipw5",
    "outputId": "0ef63a23-15b1-4345-f930-0e7080b02f36"
   },
   "outputs": [],
   "source": [
    "df2.columns = names\n",
    "df2"
   ]
  },
  {
   "cell_type": "code",
   "execution_count": null,
   "metadata": {
    "id": "0NgmOvZMfqDz"
   },
   "outputs": [],
   "source": [
    "df2['Class'] = df2['Class'].map({'ckd': 1, 'notckd': 0})\n"
   ]
  },
  {
   "cell_type": "code",
   "execution_count": null,
   "metadata": {
    "colab": {
     "base_uri": "https://localhost:8080/",
     "height": 476
    },
    "id": "PHPIv8_jkeJS",
    "outputId": "6c839ae7-c6b0-4723-ac9f-85cf02370564"
   },
   "outputs": [],
   "source": [
    "df2"
   ]
  },
  {
   "cell_type": "code",
   "execution_count": null,
   "metadata": {
    "id": "qaNUdQnWb1Fb"
   },
   "outputs": [],
   "source": [
    "df_merged = df.append(df2, ignore_index=True)"
   ]
  },
  {
   "cell_type": "code",
   "execution_count": null,
   "metadata": {
    "colab": {
     "base_uri": "https://localhost:8080/",
     "height": 496
    },
    "id": "u_2kWdPqeRQH",
    "outputId": "bfe7c469-8a14-4b2d-e9b4-69b58db9346d"
   },
   "outputs": [],
   "source": [
    "df_merged"
   ]
  },
  {
   "cell_type": "code",
   "execution_count": null,
   "metadata": {
    "id": "nZT6De2UeW8K"
   },
   "outputs": [],
   "source": [
    "# df_merged.to_csv(\"kidney_merged.csv\",  encoding='utf-8')"
   ]
  },
  {
   "cell_type": "code",
   "execution_count": null,
   "metadata": {
    "id": "QJgCz78v832L"
   },
   "outputs": [],
   "source": [
    "#Run this cell\n",
    "ckd_df = pd.read_csv('kidney_merged.csv')\n",
    "ckd_df.drop(['Unnamed: 0'],axis=1,inplace=True)"
   ]
  },
  {
   "cell_type": "code",
   "execution_count": null,
   "metadata": {
    "colab": {
     "base_uri": "https://localhost:8080/",
     "height": 496
    },
    "id": "39q24tUl9De5",
    "outputId": "d63ce154-8e26-431e-a28a-f4363b776c47"
   },
   "outputs": [],
   "source": [
    "#Run this cell\n",
    "kd_df = pd.concat([ckd_df]*2)\n",
    "kd_df"
   ]
  },
  {
   "cell_type": "code",
   "execution_count": null,
   "metadata": {
    "id": "jHdvxc0N9J5c"
   },
   "outputs": [],
   "source": [
    "# kd_df.to_csv(\"kidney_final2.csv\",  encoding='utf-8')"
   ]
  },
  {
   "cell_type": "markdown",
   "metadata": {
    "id": "ymVavfQMgMWZ"
   },
   "source": [
    "**Pickle to csv**"
   ]
  },
  {
   "cell_type": "code",
   "execution_count": null,
   "metadata": {
    "id": "rsjbiZvHgHxN"
   },
   "outputs": [],
   "source": [
    "# import pickle as pkl\n",
    "# import pandas as pd\n",
    "# with open(\"diag_dict.pkl\", \"rb\") as f:\n",
    "#     object = pkl.load(f)\n",
    "\n",
    "# df = pd.DataFrame([object])\n",
    "# df.to_csv(r'file1.csv')"
   ]
  },
  {
   "cell_type": "code",
   "execution_count": null,
   "metadata": {
    "id": "WygVwiacgJuC"
   },
   "outputs": [],
   "source": [
    "# import pickle\n",
    "\n",
    "\n",
    "# with open('12m_test_ids.pkl', 'rb') as f:\n",
    "#     data = pickle.load(f)\n",
    "\n",
    "# print(data)"
   ]
  },
  {
   "cell_type": "markdown",
   "metadata": {
    "id": "bMGqNi9wf7Ry"
   },
   "source": [
    "# Data Visualization"
   ]
  },
  {
   "cell_type": "markdown",
   "metadata": {
    "id": "lxuN9pE8f5ld"
   },
   "source": []
  },
  {
   "cell_type": "code",
   "execution_count": null,
   "metadata": {
    "colab": {
     "base_uri": "https://localhost:8080/"
    },
    "id": "Ue3eP1lbwIvM",
    "outputId": "2dac487e-7926-45bd-c6f4-1540f0ba114f"
   },
   "outputs": [],
   "source": [
    "kd_df.info()"
   ]
  },
  {
   "cell_type": "code",
   "execution_count": null,
   "metadata": {
    "colab": {
     "base_uri": "https://localhost:8080/",
     "height": 0
    },
    "id": "xHE4seyXhk7b",
    "outputId": "feae25c6-4964-4b1d-e4e8-63ad3ed05a45"
   },
   "outputs": [],
   "source": [
    "\n",
    "kd_df['Class'].value_counts().plot(kind='bar',color=['salmon','lightblue'],title=\"Count of Diagnosis of kidney disease\");"
   ]
  },
  {
   "cell_type": "markdown",
   "metadata": {
    "id": "QRP3D2cG-NH_"
   },
   "source": [
    "**Checking how many instances of each class are present**"
   ]
  },
  {
   "cell_type": "code",
   "execution_count": null,
   "metadata": {
    "colab": {
     "base_uri": "https://localhost:8080/",
     "height": 0
    },
    "id": "3QIxQT1cgi_k",
    "outputId": "93127c32-18eb-421d-80fb-904f909f6323"
   },
   "outputs": [],
   "source": [
    "\n",
    "kd_df['Age'].plot(kind='hist');"
   ]
  },
  {
   "cell_type": "markdown",
   "metadata": {
    "id": "OIn5jHOe-SCV"
   },
   "source": [
    "**Checking the  age difference with a histogram**"
   ]
  },
  {
   "cell_type": "code",
   "execution_count": null,
   "metadata": {
    "colab": {
     "base_uri": "https://localhost:8080/"
    },
    "id": "EqJV1pa0hDHQ",
    "outputId": "36fcb5a7-fd33-4cfe-91e4-25f84459b973"
   },
   "outputs": [],
   "source": [
    "kd_df['Class'].value_counts()"
   ]
  },
  {
   "cell_type": "code",
   "execution_count": null,
   "metadata": {
    "colab": {
     "base_uri": "https://localhost:8080/",
     "height": 0
    },
    "id": "4oIRGzaNg87h",
    "outputId": "50b099ec-a7b0-4bec-ba11-8e879c84de85"
   },
   "outputs": [],
   "source": [
    "\n",
    "p = msno.bar(kd_df)"
   ]
  },
  {
   "cell_type": "markdown",
   "metadata": {
    "id": "LU2c18SgC9DC"
   },
   "source": [
    "**Inference: Here any features which are not touching the 1116 mark at the top  have some null values.**"
   ]
  },
  {
   "cell_type": "code",
   "execution_count": null,
   "metadata": {
    "colab": {
     "base_uri": "https://localhost:8080/",
     "height": 0
    },
    "id": "-p44xiefCBj8",
    "outputId": "6b0761b1-9b8b-490b-ff86-f890a0618c96"
   },
   "outputs": [],
   "source": [
    "plt.subplot(121), sns.histplot(kd_df['Blood Pressure'])\n",
    "plt.subplot(122), kd_df['Blood Pressure'].plot.box(figsize=(16,5))\n",
    "plt.show()"
   ]
  },
  {
   "cell_type": "markdown",
   "metadata": {
    "id": "vT1s_93BCupo"
   },
   "source": [
    "**Inference: In the above graph we can see the distribution of blood pressure and  in the subplot it is visible that blood pressure column has some outliers in it.**"
   ]
  },
  {
   "cell_type": "code",
   "execution_count": null,
   "metadata": {
    "colab": {
     "base_uri": "https://localhost:8080/",
     "height": 0
    },
    "id": "73O0phUECy6q",
    "outputId": "bce6486f-bdb4-42f5-8298-2d1537a92610"
   },
   "outputs": [],
   "source": [
    "plt.figure(figsize = (19,19))\n",
    "sns.heatmap(kd_df.corr(), annot = True, cmap = 'coolwarm') # looking for strong correlations with \"class\" row"
   ]
  },
  {
   "cell_type": "markdown",
   "metadata": {
    "id": "D55LVtii-0c3"
   },
   "source": [
    "**Checking for strong correlations with Classes**"
   ]
  },
  {
   "cell_type": "markdown",
   "metadata": {
    "id": "DXHcXwhuDziI"
   },
   "source": [
    "# Exploratory Data Analysis"
   ]
  },
  {
   "cell_type": "code",
   "execution_count": null,
   "metadata": {
    "id": "ib19BF54MNdO"
   },
   "outputs": [],
   "source": [
    "data = kd_df"
   ]
  },
  {
   "cell_type": "code",
   "execution_count": null,
   "metadata": {
    "colab": {
     "base_uri": "https://localhost:8080/"
    },
    "id": "hITi71trD3eI",
    "outputId": "16f465f1-4d67-4b91-d09f-b3f329c7d56d"
   },
   "outputs": [],
   "source": [
    "data.info()"
   ]
  },
  {
   "cell_type": "markdown",
   "metadata": {
    "id": "iNcmLJy0_FLa"
   },
   "source": [
    "\n",
    "- Check for null values\n",
    "- Scale the values for accurate prediction\n",
    "- If exists, Drop rows with high number of corrup data"
   ]
  },
  {
   "cell_type": "code",
   "execution_count": null,
   "metadata": {
    "colab": {
     "base_uri": "https://localhost:8080/"
    },
    "id": "z5w51HUB_ZRX",
    "outputId": "554bb38d-c73d-4522-c76c-cb010993fea1"
   },
   "outputs": [],
   "source": [
    "data.shape"
   ]
  },
  {
   "cell_type": "code",
   "execution_count": null,
   "metadata": {
    "colab": {
     "base_uri": "https://localhost:8080/"
    },
    "id": "HV1vda_dMSVx",
    "outputId": "6271b87c-460a-4e80-a876-92e0d7658955"
   },
   "outputs": [],
   "source": [
    "data.columns"
   ]
  },
  {
   "cell_type": "code",
   "execution_count": null,
   "metadata": {
    "colab": {
     "base_uri": "https://localhost:8080/",
     "height": 308
    },
    "id": "oGAQuAbHdKWu",
    "outputId": "1c56c895-d2e9-4960-e6e3-7cf70061f8f8"
   },
   "outputs": [],
   "source": [
    "data.head()"
   ]
  },
  {
   "cell_type": "markdown",
   "metadata": {
    "id": "OVrWy0aua65m"
   },
   "source": [
    "**Converting text attributes to numerical attributes**"
   ]
  },
  {
   "cell_type": "code",
   "execution_count": null,
   "metadata": {
    "id": "OM2ZPrRUZc-O"
   },
   "outputs": [],
   "source": [
    "data['Hypertension'] = data['Hypertension'].map({'yes':1,'no':0})\n",
    "data['Diabetes Mellitus'] = data['Diabetes Mellitus'].map({'yes':1,'no':0})\n",
    "data['Coronary Artery Disease'] = data['Coronary Artery Disease'].map({'yes':1,'no':0})\n",
    "data['Appetite'] = data['Appetite'].map({'good':1,'poor':0})\n",
    "data['Anemia'] = data['Anemia'].map({'yes':1,'no':0})\n",
    "data['Pedal Edema'] = data['Pedal Edema'].map({'yes':1,'no':0})\n",
    "data['Bacteria'] = data['Bacteria'].map({'present':1,'notpresent':0})\n",
    "data['Pus Cell clumps'] = data['Pus Cell clumps'].map({'present':1,'notpresent':0})\n",
    "data['Pus Cell'] = data['Pus Cell'].map({'abnormal':1,'normal':0})\n",
    "data['Red Blood Cells'] = data['Red Blood Cells'].map({'abnormal':1,'normal':0})"
   ]
  },
  {
   "cell_type": "code",
   "execution_count": null,
   "metadata": {
    "colab": {
     "base_uri": "https://localhost:8080/",
     "height": 476
    },
    "id": "QpOl7RJEDkj1",
    "outputId": "fa3d56f6-d8e0-4a85-c16b-bf648896ce52"
   },
   "outputs": [],
   "source": [
    "data"
   ]
  },
  {
   "cell_type": "markdown",
   "metadata": {
    "id": "5Q4jZK5gbKmX"
   },
   "source": [
    "**Dealing with Null Values**"
   ]
  },
  {
   "cell_type": "code",
   "execution_count": null,
   "metadata": {
    "colab": {
     "base_uri": "https://localhost:8080/"
    },
    "id": "sA49tGdrMU5Z",
    "outputId": "b72f9186-378d-4fe6-8f43-6cd09cca24f6"
   },
   "outputs": [],
   "source": [
    "data.isnull().sum()"
   ]
  },
  {
   "cell_type": "markdown",
   "metadata": {
    "id": "oRHlWX2QdiGo"
   },
   "source": [
    "**Replcaing column with numerical values with their mean value. Binary classes are kept as null.**"
   ]
  },
  {
   "cell_type": "code",
   "execution_count": null,
   "metadata": {
    "id": "Wep2t_BjNN7g"
   },
   "outputs": [],
   "source": [
    "#age\n",
    "mean_age = data['Age'].mean()\n",
    "mean_age\n",
    "data['Age'].fillna(value=mean_age, inplace=True)\n",
    "#bp\n",
    "mean_bp  = data['Blood Pressure'].mean()\n",
    "mean_bp\n",
    "data['Blood Pressure'].fillna(value=mean_bp, inplace=True)\n",
    "#sg\n",
    "mean_sg = data['Specific Gravity'].mean()\n",
    "mean_sg\n",
    "data['Specific Gravity'].fillna(value=mean_sg, inplace=True)\n",
    "#albumin\n",
    "mean_albumin = data['Albumin'].mean()\n",
    "mean_albumin\n",
    "data['Albumin'].fillna(value=mean_albumin, inplace=True)\n",
    "#sugar\n",
    "mean_sugar = data['Sugar'].mean()\n",
    "mean_sugar\n",
    "data['Sugar'].fillna(value=mean_sugar, inplace=True)\n",
    "#bgr\n",
    "mean_bgr =  data['Blood Glucose Random'].mean()\n",
    "mean_bgr\n",
    "data['Blood Glucose Random'].fillna(value=mean_bgr, inplace=True)\n",
    "#bu\n",
    "mean_bu =  data['Blood Urea'].mean()\n",
    "mean_bu\n",
    "data['Blood Urea'].fillna(value=mean_bu, inplace=True)\n",
    "#sc\n",
    "mean_sc =  data['Serum Creatinine'].mean()\n",
    "mean_sc\n",
    "data['Serum Creatinine'].fillna(value=mean_sc, inplace=True)\n",
    "#sodium\n",
    "mean_sodium =  data['Sodium'].mean()\n",
    "mean_sodium\n",
    "data['Sodium'].fillna(value=mean_sodium, inplace=True)\n",
    "#potasium\n",
    "mean_potassium =  data['Potassium'].mean()\n",
    "mean_potassium\n",
    "data['Potassium'].fillna(value=mean_potassium, inplace=True)\n",
    "#hemoglobin\n",
    "mean_hemoglobin =  data['Hemoglobin'].mean()\n",
    "mean_hemoglobin\n",
    "data['Hemoglobin'].fillna(value=mean_hemoglobin, inplace=True)"
   ]
  },
  {
   "cell_type": "code",
   "execution_count": null,
   "metadata": {
    "colab": {
     "base_uri": "https://localhost:8080/"
    },
    "id": "8J_MOH6zFOtz",
    "outputId": "fff63a78-7ecf-44e3-f6f4-9e0828a81450"
   },
   "outputs": [],
   "source": [
    "data.isnull().sum()"
   ]
  },
  {
   "cell_type": "code",
   "execution_count": null,
   "metadata": {
    "id": "nwQ0Jk-GFKF4"
   },
   "outputs": [],
   "source": [
    "#dropping still existing null values\n",
    "data.dropna(subset=['Diabetes Mellitus'], how='all', inplace=True)\n",
    "data.dropna(subset=['Appetite'], how='all', inplace=True)\n",
    "data.dropna(subset=['Pedal Edema'], how='all', inplace=True)\n",
    "data.dropna(subset=['Anemia'], how='all', inplace=True)\n",
    "data.dropna(subset=['Class'], how='all', inplace=True)\n",
    "data.dropna(subset=['Red Blood Cell Count'], how='all', inplace=True)\n",
    "data.dropna(subset=['Packed Cell Volume'], how='all', inplace=True)\n",
    "data.dropna(subset=['White Blood Cell Count'], how='all', inplace=True)\n",
    "data.dropna(subset=['Red Blood Cells'], how='all', inplace=True)\n",
    "data.dropna(subset=['Pus Cell'], how='all', inplace=True)\n",
    "data.dropna(subset=['Pus Cell clumps'], how='all', inplace=True)\n",
    "data.dropna(subset=['Bacteria'], how='all', inplace=True)\n",
    "data.dropna(subset=['Coronary Artery Disease'], how='all', inplace=True)"
   ]
  },
  {
   "cell_type": "code",
   "execution_count": null,
   "metadata": {
    "id": "cK2ybetbFUZK"
   },
   "outputs": [],
   "source": [
    "# #Final dataset after preprocessing\n",
    "# data.to_csv(\"kidney_clean.csv\",  encoding='utf-8')"
   ]
  },
  {
   "cell_type": "code",
   "execution_count": null,
   "metadata": {
    "id": "QspVwguxFbdH"
   },
   "outputs": [],
   "source": [
    "#Load Final Dataset\n",
    "# data = pd.read_csv(\"kidney_clean.csv\")"
   ]
  },
  {
   "cell_type": "code",
   "execution_count": null,
   "metadata": {
    "id": "MFc4BVfhFndL"
   },
   "outputs": [],
   "source": [
    "# data.drop(['Unnamed: 0'],axis=1,inplace=True)"
   ]
  },
  {
   "cell_type": "markdown",
   "metadata": {
    "id": "hZr8QUb4eFfW"
   },
   "source": [
    "# Data Spliting"
   ]
  },
  {
   "cell_type": "code",
   "execution_count": null,
   "metadata": {
    "id": "P8AnfU0FxT12"
   },
   "outputs": [],
   "source": [
    "data = pd.read_csv(\"/content/kidney_clean.csv\")"
   ]
  },
  {
   "cell_type": "code",
   "execution_count": null,
   "metadata": {
    "id": "B__wbeUNxUH5"
   },
   "outputs": [],
   "source": [
    "data.drop(['Unnamed: 0'],axis=1,inplace=True)"
   ]
  },
  {
   "cell_type": "code",
   "execution_count": null,
   "metadata": {
    "colab": {
     "base_uri": "https://localhost:8080/",
     "height": 476
    },
    "id": "W6vIyeyvBvMu",
    "outputId": "6bc7e26d-808c-49aa-f1a8-ea7b73a8886c"
   },
   "outputs": [],
   "source": [
    "data"
   ]
  },
  {
   "cell_type": "code",
   "execution_count": null,
   "metadata": {
    "id": "P4JCUsInePXM"
   },
   "outputs": [],
   "source": [
    "\n",
    "X = data.iloc[:,:-1]\n",
    "y = data['Class']"
   ]
  },
  {
   "cell_type": "code",
   "execution_count": null,
   "metadata": {
    "id": "ea7VVH1l8x2C"
   },
   "outputs": [],
   "source": [
    "#splitting the dataset\n",
    "X_train, X_test, y_train, y_test = train_test_split(X,y, stratify = y, shuffle = True)"
   ]
  },
  {
   "cell_type": "code",
   "execution_count": null,
   "metadata": {
    "colab": {
     "base_uri": "https://localhost:8080/",
     "height": 476
    },
    "id": "Z4f6USbd8q27",
    "outputId": "a805db56-81d0-4071-c1da-11439cd62295"
   },
   "outputs": [],
   "source": [
    "X_train"
   ]
  },
  {
   "cell_type": "code",
   "execution_count": null,
   "metadata": {
    "colab": {
     "base_uri": "https://localhost:8080/",
     "height": 476
    },
    "id": "SoKsipCMCW8C",
    "outputId": "b9625da2-b062-422f-c4bd-d7302b745572"
   },
   "outputs": [],
   "source": [
    "X_test"
   ]
  },
  {
   "cell_type": "code",
   "execution_count": null,
   "metadata": {
    "colab": {
     "base_uri": "https://localhost:8080/"
    },
    "id": "9I24-Fs6Ca1r",
    "outputId": "b486140c-527b-4051-b725-3f9959ab7380"
   },
   "outputs": [],
   "source": [
    "y_train"
   ]
  },
  {
   "cell_type": "code",
   "execution_count": null,
   "metadata": {
    "colab": {
     "base_uri": "https://localhost:8080/"
    },
    "id": "t9_ZzGPJCeHT",
    "outputId": "b6d2c216-4905-4eee-be97-8fc3ce4b613b"
   },
   "outputs": [],
   "source": [
    "y_test"
   ]
  },
  {
   "cell_type": "markdown",
   "metadata": {
    "id": "q-I3AfG6eW4h"
   },
   "source": [
    "# Model Training"
   ]
  },
  {
   "cell_type": "markdown",
   "metadata": {
    "id": "J9Tx2JECbEtc"
   },
   "source": [
    "**Importing classifiers**"
   ]
  },
  {
   "cell_type": "code",
   "execution_count": null,
   "metadata": {
    "id": "PLP0F4SLbOA3"
   },
   "outputs": [],
   "source": [
    "from sklearn.ensemble import  BaggingClassifier, GradientBoostingClassifier\n",
    "from sklearn.tree import DecisionTreeClassifier, ExtraTreeClassifier\n",
    "from sklearn.naive_bayes import GaussianNB\n",
    "from sklearn.linear_model import LogisticRegression\n",
    "from sklearn.neighbors import KNeighborsClassifier\n",
    "from sklearn.svm import SVC\n",
    "from sklearn.ensemble import RandomForestClassifier\n",
    "from sklearn.pipeline import make_pipeline"
   ]
  },
  {
   "cell_type": "markdown",
   "metadata": {
    "id": "UtOKP6WNxx_Y"
   },
   "source": [
    "**Using Cross Validation and applying Classifier Algorithms**"
   ]
  },
  {
   "cell_type": "code",
   "execution_count": null,
   "metadata": {
    "colab": {
     "base_uri": "https://localhost:8080/",
     "height": 332
    },
    "id": "ge1-4o3nX6jS",
    "outputId": "eb93334a-f30b-4c3f-85ca-13156f0cf237"
   },
   "outputs": [],
   "source": [
    "\n",
    "crossvalidation_score=[]\n",
    "mod = []\n",
    "model =[BaggingClassifier(), SVC(),RandomForestClassifier(), GradientBoostingClassifier(),\n",
    "        DecisionTreeClassifier(), ExtraTreeClassifier(), KNeighborsClassifier(),LogisticRegression(),GaussianNB(),]\n",
    "for mdl in model:\n",
    "    crossvalidation_score.append(cross_val_score(mdl, X_train, y_train, scoring='accuracy', cv=5).mean())\n",
    "    mod.append(mdl)\n",
    "model_df= pd.DataFrame(columns=['model','crossvalidation_score'])\n",
    "model_df['model']= mod\n",
    "model_df['crossvalidation_score']= crossvalidation_score\n",
    "model_df.sort_values(by=['crossvalidation_score'], ascending=True)\n"
   ]
  },
  {
   "cell_type": "markdown",
   "metadata": {
    "id": "s-Bzf3R34zLN"
   },
   "source": [
    "**KNeighbors Classifier**"
   ]
  },
  {
   "cell_type": "code",
   "execution_count": null,
   "metadata": {
    "colab": {
     "base_uri": "https://localhost:8080/",
     "height": 606
    },
    "id": "TTFBgECF44T9",
    "outputId": "3121e5db-9d4f-4f3b-f29e-023193c7261c"
   },
   "outputs": [],
   "source": [
    "from sklearn.metrics import classification_report, confusion_matrix\n",
    "kmodel = KNeighborsClassifier()\n",
    "kmodel.fit(X_train,y_train)\n",
    "pred = kmodel.predict(X_test)\n",
    "print(classification_report(y_test, pred))\n",
    "sns.heatmap(confusion_matrix(y_test, pred), annot=True, fmt='.2f')\n",
    "print(kmodel.score)"
   ]
  },
  {
   "cell_type": "markdown",
   "metadata": {
    "id": "YyjqSmqG2X7K"
   },
   "source": [
    "**Logistic Regression**"
   ]
  },
  {
   "cell_type": "code",
   "execution_count": null,
   "metadata": {
    "colab": {
     "base_uri": "https://localhost:8080/",
     "height": 606
    },
    "id": "xHqTd9ap1z2J",
    "outputId": "fb871a2c-7363-48ac-ba5b-7df9492a5a7a"
   },
   "outputs": [],
   "source": [
    "from sklearn.metrics import classification_report, confusion_matrix\n",
    "lmodel = LogisticRegression()\n",
    "lmodel.fit(X_train,y_train)\n",
    "pred = lmodel.predict(X_test)\n",
    "print(classification_report(y_test, pred))\n",
    "sns.heatmap(confusion_matrix(y_test, pred), annot=True, fmt='.2f')\n",
    "print(lmodel.score)"
   ]
  },
  {
   "cell_type": "markdown",
   "metadata": {
    "id": "EXA3RCy_2l6L"
   },
   "source": [
    "Decision Tree"
   ]
  },
  {
   "cell_type": "code",
   "execution_count": null,
   "metadata": {
    "colab": {
     "base_uri": "https://localhost:8080/",
     "height": 606
    },
    "id": "DXd_CLyG10AF",
    "outputId": "54841b5a-d85c-4e6a-f23f-d42d7106e4d9"
   },
   "outputs": [],
   "source": [
    "from sklearn.metrics import classification_report, confusion_matrix\n",
    "dmodel = DecisionTreeClassifier()\n",
    "dmodel.fit(X_train,y_train)\n",
    "pred = dmodel.predict(X_test)\n",
    "print(classification_report(y_test, pred))\n",
    "sns.heatmap(confusion_matrix(y_test, pred), annot=True, fmt='.2f')\n",
    "print(dmodel.score)"
   ]
  },
  {
   "cell_type": "markdown",
   "metadata": {
    "id": "V1mrnkvv3-SD"
   },
   "source": [
    "Gradient Boosting Classifier"
   ]
  },
  {
   "cell_type": "code",
   "execution_count": null,
   "metadata": {
    "colab": {
     "base_uri": "https://localhost:8080/",
     "height": 606
    },
    "id": "SCFdMVCz10I4",
    "outputId": "8fa637be-6e4c-47c2-e364-f1aada0b9b6a"
   },
   "outputs": [],
   "source": [
    "\n",
    "gmodel = GradientBoostingClassifier()\n",
    "gmodel.fit(X_train,y_train)\n",
    "pred = gmodel.predict(X_test)\n",
    "print(classification_report(y_test, pred))\n",
    "sns.heatmap(confusion_matrix(y_test, pred), annot=True, fmt='.2f')\n",
    "print(gmodel.score)"
   ]
  },
  {
   "cell_type": "markdown",
   "metadata": {
    "id": "zJo6mt7N4GsK"
   },
   "source": [
    "**Random Forest Classifier**"
   ]
  },
  {
   "cell_type": "code",
   "execution_count": null,
   "metadata": {
    "colab": {
     "base_uri": "https://localhost:8080/",
     "height": 606
    },
    "id": "f8kGhrtc4J13",
    "outputId": "ad2f2db9-4c7e-411e-e456-d403f71eeb3b"
   },
   "outputs": [],
   "source": [
    "from sklearn.metrics import classification_report, confusion_matrix\n",
    "rmodel = RandomForestClassifier()\n",
    "rmodel.fit(X_train,y_train)\n",
    "pred = rmodel.predict(X_test)\n",
    "print(classification_report(y_test, pred))\n",
    "sns.heatmap(confusion_matrix(y_test, pred), annot=True, fmt='.2f')\n",
    "print(rmodel.score)\n"
   ]
  },
  {
   "cell_type": "markdown",
   "metadata": {
    "id": "BewnJQwdykOB"
   },
   "source": [
    "## Picking the final Model"
   ]
  },
  {
   "cell_type": "code",
   "execution_count": null,
   "metadata": {
    "colab": {
     "base_uri": "https://localhost:8080/",
     "height": 606
    },
    "id": "_2ZYIeaXaMSF",
    "outputId": "0c3f19f9-2cc3-489c-eada-276fc23e0185"
   },
   "outputs": [],
   "source": [
    "from sklearn.metrics import classification_report, confusion_matrix\n",
    "model = LogisticRegression()\n",
    "model.fit(X_train,y_train)\n",
    "pred = model.predict(X_test)\n",
    "print(classification_report(y_test, pred))\n",
    "sns.heatmap(confusion_matrix(y_test, pred), annot=True, fmt='.2f')\n",
    "print(model.score)\n"
   ]
  },
  {
   "cell_type": "markdown",
   "metadata": {
    "id": "-vLra8Bzd0BS"
   },
   "source": [
    "# Saving the model"
   ]
  },
  {
   "cell_type": "code",
   "execution_count": null,
   "metadata": {
    "id": "v6KTuvqAf6fd"
   },
   "outputs": [],
   "source": [
    "import pickle  # Pickle is a library that helps us to save model\n",
    "with open('ckd_prediction.pkl', 'wb') as files:\n",
    "    pickle.dump(model, files)"
   ]
  },
  {
   "cell_type": "code",
   "execution_count": null,
   "metadata": {
    "id": "Z_YV7cTnf9hB"
   },
   "outputs": [],
   "source": [
    "with open('ckd_prediction.pkl' , 'rb') as f: # Loading the model\n",
    "    fmodel = pickle.load(f) # fmodel is the loaded model"
   ]
  },
  {
   "cell_type": "code",
   "execution_count": null,
   "metadata": {
    "colab": {
     "base_uri": "https://localhost:8080/"
    },
    "id": "Obk1IlyYf_qe",
    "outputId": "2a326268-6241-4ea0-eeb8-afcd9d368aa7"
   },
   "outputs": [],
   "source": [
    "fmodel.predict(X_test) # Running prediction on test set using the loaded model"
   ]
  },
  {
   "cell_type": "code",
   "execution_count": null,
   "metadata": {
    "id": "TPblZa4PkWuC"
   },
   "outputs": [],
   "source": [
    "# ignoring scikit learn warnings\n",
    "import warnings\n",
    "warnings.filterwarnings('ignore')"
   ]
  },
  {
   "cell_type": "code",
   "execution_count": null,
   "metadata": {
    "colab": {
     "base_uri": "https://localhost:8080/"
    },
    "id": "eooVPDnUegoL",
    "outputId": "54b54839-e95b-425d-def9-18a33c45414e"
   },
   "outputs": [],
   "source": [
    "# Running prediction on a single patient data using the loaded model\n",
    "fmodel.predict([[48.0,70.0,1.005,4.0,0.0,0,1,1,0,117.0,56.0,3.8,111.0,2.5,11.2,32,6700,3.9,1,0,0.0,0,1,1]])"
   ]
  },
  {
   "cell_type": "code",
   "execution_count": null,
   "metadata": {
    "colab": {
     "base_uri": "https://localhost:8080/"
    },
    "id": "CmIpCHnVwvrG",
    "outputId": "18f30942-71d2-4bf8-aac0-0f2a75be42f5"
   },
   "outputs": [],
   "source": [
    "# Running prediction on a single patient data using the loaded model\n",
    "fmodel.predict([[59.0,70.0,1.025,0.0,0.0,0,0,0,0,130.0,39.0,0.7,147.0,4.7,13.5,46,6700,4.5,0,0,0.0,1,0,0]])"
   ]
  }
 ],
 "metadata": {
  "colab": {
   "collapsed_sections": [
    "x1VFpCJIfMCd",
    "jCJbW14JezTf",
    "bMGqNi9wf7Ry"
   ],
   "provenance": []
  },
  "kernelspec": {
   "display_name": "Python 3 (ipykernel)",
   "language": "python",
   "name": "python3"
  },
  "language_info": {
   "codemirror_mode": {
    "name": "ipython",
    "version": 3
   },
   "file_extension": ".py",
   "mimetype": "text/x-python",
   "name": "python",
   "nbconvert_exporter": "python",
   "pygments_lexer": "ipython3",
   "version": "3.10.11"
  }
 },
 "nbformat": 4,
 "nbformat_minor": 4
}
